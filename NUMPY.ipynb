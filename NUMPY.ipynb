{
 "cells": [
  {
   "cell_type": "code",
   "execution_count": null,
   "id": "6008a233-11c8-4667-8eba-82b54057454d",
   "metadata": {},
   "outputs": [],
   "source": [
    "import numpy as np"
   ]
  },
  {
   "cell_type": "code",
   "execution_count": null,
   "id": "a5e3799e-a31a-4af9-a5d8-0956acae3937",
   "metadata": {},
   "outputs": [],
   "source": [
    "#!conda install numpy #install from jupyter notebook"
   ]
  },
  {
   "cell_type": "code",
   "execution_count": null,
   "id": "538f31a8-14f9-4c56-9744-08b968033be4",
   "metadata": {},
   "outputs": [],
   "source": [
    "#np.array(eleemnts)==>syntax"
   ]
  },
  {
   "cell_type": "code",
   "execution_count": null,
   "id": "3c76c4bf-38aa-401e-b802-1753a72146a1",
   "metadata": {},
   "outputs": [],
   "source": [
    "a=np.array(\"raja\")\n",
    "a"
   ]
  },
  {
   "cell_type": "code",
   "execution_count": null,
   "id": "f5907144-171a-436a-92ea-6b57ad35480d",
   "metadata": {},
   "outputs": [],
   "source": [
    "a=np.array(1)\n",
    "a"
   ]
  },
  {
   "cell_type": "code",
   "execution_count": null,
   "id": "ce627e06-7ee6-45a6-a8cf-5390603de142",
   "metadata": {},
   "outputs": [],
   "source": [
    "a.ndim"
   ]
  },
  {
   "cell_type": "code",
   "execution_count": null,
   "id": "daa9dd4e-24f9-4b30-af3a-3d96ca5da6eb",
   "metadata": {},
   "outputs": [],
   "source": [
    "b=np.array(['Apples','Banana','Grapes','Pineapple'])\n",
    "b"
   ]
  },
  {
   "cell_type": "code",
   "execution_count": null,
   "id": "7d84c607-0ae2-4da9-8d38-55bf5a14bfdb",
   "metadata": {},
   "outputs": [],
   "source": [
    "b.ndim"
   ]
  },
  {
   "cell_type": "code",
   "execution_count": null,
   "id": "6305df16-489c-478d-8595-a3defee1b344",
   "metadata": {},
   "outputs": [],
   "source": [
    "b.shape"
   ]
  },
  {
   "cell_type": "code",
   "execution_count": null,
   "id": "aabffab2-4287-4593-b0cb-d8d56a4d79fc",
   "metadata": {},
   "outputs": [],
   "source": [
    "b.dtype"
   ]
  },
  {
   "cell_type": "code",
   "execution_count": null,
   "id": "77a2df47-791a-49e2-a4d2-aed2c2ddd329",
   "metadata": {},
   "outputs": [],
   "source": [
    "n=np.array([1,2,3,4])\n",
    "n"
   ]
  },
  {
   "cell_type": "code",
   "execution_count": null,
   "id": "fde8499b-6ca1-468b-ad11-3d524da89a22",
   "metadata": {},
   "outputs": [],
   "source": [
    "n.ndim"
   ]
  },
  {
   "cell_type": "code",
   "execution_count": null,
   "id": "eff20c50-f28f-48f5-ad16-84ee61d3a123",
   "metadata": {},
   "outputs": [],
   "source": [
    "n.dtype"
   ]
  },
  {
   "cell_type": "code",
   "execution_count": null,
   "id": "fe0c72e0-bae1-44b9-88f4-1fc7bc637010",
   "metadata": {},
   "outputs": [],
   "source": [
    "n.shape"
   ]
  },
  {
   "cell_type": "code",
   "execution_count": null,
   "id": "a8ccfc89-22e7-4130-9b39-caf5e35bd855",
   "metadata": {},
   "outputs": [],
   "source": [
    "two=np.array([[1,2,3,4],[5,6,7,89]])\n",
    "two"
   ]
  },
  {
   "cell_type": "code",
   "execution_count": null,
   "id": "5fb0a588-a510-4ecf-9140-e826caa38cd6",
   "metadata": {},
   "outputs": [],
   "source": [
    "two.ndim"
   ]
  },
  {
   "cell_type": "code",
   "execution_count": null,
   "id": "370e100a-e202-4c63-b38f-83b731070aa4",
   "metadata": {},
   "outputs": [],
   "source": [
    "two.shape"
   ]
  },
  {
   "cell_type": "code",
   "execution_count": null,
   "id": "64de0c84-dcc3-4260-b76b-74c5f18b88a1",
   "metadata": {},
   "outputs": [],
   "source": [
    "two.dtype"
   ]
  },
  {
   "cell_type": "code",
   "execution_count": null,
   "id": "c7c13f5c-9ac1-4ab1-a6ec-6dcd0a6d1cb6",
   "metadata": {},
   "outputs": [],
   "source": [
    "two=np.array([[[1,2,3,4],[5,6,7,89]]])\n",
    "two"
   ]
  },
  {
   "cell_type": "code",
   "execution_count": null,
   "id": "7b34bb0f-033a-4fc9-a160-151948316e2d",
   "metadata": {},
   "outputs": [],
   "source": [
    "two.ndim"
   ]
  },
  {
   "cell_type": "code",
   "execution_count": null,
   "id": "25ee1f19-9a11-4309-b09f-ac237e38bf4b",
   "metadata": {},
   "outputs": [],
   "source": [
    "b=np.array([['Apples','Banana','Grapes','Pineapple']])\n",
    "b"
   ]
  },
  {
   "cell_type": "code",
   "execution_count": null,
   "id": "22ab438c-6cb2-4d28-9dff-75152c168b56",
   "metadata": {},
   "outputs": [],
   "source": [
    "b.ndim"
   ]
  },
  {
   "cell_type": "code",
   "execution_count": null,
   "id": "97a7d93e-baa8-4159-b869-2b8a1c8ee36c",
   "metadata": {},
   "outputs": [],
   "source": [
    "b.shape"
   ]
  },
  {
   "cell_type": "code",
   "execution_count": null,
   "id": "fb95924d-61aa-4616-8fe4-ece886d0dcf5",
   "metadata": {},
   "outputs": [],
   "source": [
    "b=np.array([[['Apples','Banana'],['Grapes','Pineapple']]])\n",
    "b"
   ]
  },
  {
   "cell_type": "code",
   "execution_count": null,
   "id": "c3f3b6b4-e372-4158-a876-8544e287c7d7",
   "metadata": {},
   "outputs": [],
   "source": [
    "b.ndim"
   ]
  },
  {
   "cell_type": "code",
   "execution_count": null,
   "id": "fe41c562-bcda-4419-ad88-abd468956609",
   "metadata": {},
   "outputs": [],
   "source": [
    "b.shape"
   ]
  },
  {
   "cell_type": "code",
   "execution_count": null,
   "id": "be457481-5fe7-4088-9f12-1cf244c359fa",
   "metadata": {},
   "outputs": [],
   "source": [
    "b=np.array([[['Apples','Banana'],['Grapes','Pineapple'],[\"Raja\",\"reddy\"]]])\n",
    "b"
   ]
  },
  {
   "cell_type": "code",
   "execution_count": null,
   "id": "a7ac1d30-7ca4-4c1d-859b-e480a46be07f",
   "metadata": {},
   "outputs": [],
   "source": [
    "b.shape"
   ]
  },
  {
   "cell_type": "code",
   "execution_count": null,
   "id": "2897074a-34fa-456c-9081-a26998b69574",
   "metadata": {},
   "outputs": [],
   "source": [
    "b.ndim"
   ]
  },
  {
   "cell_type": "code",
   "execution_count": null,
   "id": "8df8a057-f1e7-49a6-a7b9-b207cb49e61c",
   "metadata": {},
   "outputs": [],
   "source": [
    "b.size"
   ]
  },
  {
   "cell_type": "code",
   "execution_count": null,
   "id": "90abb9b3-392a-4653-beac-941981c8a7fd",
   "metadata": {},
   "outputs": [],
   "source": [
    "import pandas as pd\n",
    "ages = pd.Series([22, 35, 58], name=\"Age\")\n",
    "ages"
   ]
  },
  {
   "cell_type": "code",
   "execution_count": null,
   "id": "796f9298-3b45-47cd-824b-957873ce58bc",
   "metadata": {},
   "outputs": [],
   "source": [
    "b"
   ]
  },
  {
   "cell_type": "code",
   "execution_count": null,
   "id": "4a917132-01a9-4575-adbb-42f8deef98ad",
   "metadata": {},
   "outputs": [],
   "source": [
    "import matplotlib.pyplot as pt"
   ]
  },
  {
   "cell_type": "code",
   "execution_count": null,
   "id": "31163b59-7851-45b5-a218-57d850610a62",
   "metadata": {},
   "outputs": [],
   "source": [
    "a=pd.read_csv(\"city_day.csv\")\n",
    "a"
   ]
  },
  {
   "cell_type": "code",
   "execution_count": null,
   "id": "d5bfd37c-ba7b-4dd7-b4ea-f14fc2ed365d",
   "metadata": {},
   "outputs": [],
   "source": [
    "a.plot()"
   ]
  },
  {
   "cell_type": "code",
   "execution_count": null,
   "id": "50aa072f-0eb5-4caf-ad09-92c2b1ee88c1",
   "metadata": {},
   "outputs": [],
   "source": [
    "pt.show"
   ]
  },
  {
   "cell_type": "code",
   "execution_count": null,
   "id": "4c0b2d3f-c4a7-4b0a-a9a9-f2558d194223",
   "metadata": {},
   "outputs": [],
   "source": [
    "a.plot.box()"
   ]
  },
  {
   "cell_type": "code",
   "execution_count": null,
   "id": "ca5c46e1-0cdf-4b57-b2e6-78fc676acfd0",
   "metadata": {},
   "outputs": [],
   "source": [
    "a.plot.barh(stacked=True);"
   ]
  },
  {
   "cell_type": "code",
   "execution_count": null,
   "id": "6155a32b-9b1d-4ff9-a91b-a66c7e6eb5a9",
   "metadata": {},
   "outputs": [],
   "source": [
    "a.figure();"
   ]
  },
  {
   "cell_type": "code",
   "execution_count": null,
   "id": "5182c37c-2d8b-4def-87fa-79d5c8bdc6de",
   "metadata": {},
   "outputs": [],
   "source": []
  },
  {
   "cell_type": "code",
   "execution_count": null,
   "id": "a0441745-1727-4843-826c-ffea342f57ae",
   "metadata": {},
   "outputs": [],
   "source": []
  }
 ],
 "metadata": {
  "kernelspec": {
   "display_name": "Python [conda env:base] *",
   "language": "python",
   "name": "conda-base-py"
  },
  "language_info": {
   "codemirror_mode": {
    "name": "ipython",
    "version": 3
   },
   "file_extension": ".py",
   "mimetype": "text/x-python",
   "name": "python",
   "nbconvert_exporter": "python",
   "pygments_lexer": "ipython3",
   "version": "3.13.5"
  }
 },
 "nbformat": 4,
 "nbformat_minor": 5
}
